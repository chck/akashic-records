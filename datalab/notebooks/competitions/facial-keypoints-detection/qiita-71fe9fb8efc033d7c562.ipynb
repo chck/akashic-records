{
 "cells": [
  {
   "cell_type": "markdown",
   "metadata": {},
   "source": [
    "# Facial Keypoints Detection\n",
    "- https://www.kaggle.com/c/facial-keypoints-detection/\n",
    "  - 画像の回帰問題\n",
    "  - 顔写真から目の位置をpixel単位で推定する\n",
    "  - http://qiita.com/slowsingle/items/71fe9fb8efc033d7c562"
   ]
  },
  {
   "cell_type": "code",
   "execution_count": 1,
   "metadata": {
    "collapsed": false
   },
   "outputs": [
    {
     "name": "stdout",
     "output_type": "stream",
     "text": [
      "training.csv\r\n"
     ]
    }
   ],
   "source": [
    "!ls datasets/"
   ]
  },
  {
   "cell_type": "code",
   "execution_count": 2,
   "metadata": {
    "collapsed": false
   },
   "outputs": [
    {
     "data": {
      "text/html": [
       "<div>\n",
       "<table border=\"1\" class=\"dataframe\">\n",
       "  <thead>\n",
       "    <tr style=\"text-align: right;\">\n",
       "      <th></th>\n",
       "      <th>left_eye_center_x</th>\n",
       "      <th>left_eye_center_y</th>\n",
       "      <th>right_eye_center_x</th>\n",
       "      <th>right_eye_center_y</th>\n",
       "      <th>left_eye_inner_corner_x</th>\n",
       "      <th>left_eye_inner_corner_y</th>\n",
       "      <th>left_eye_outer_corner_x</th>\n",
       "      <th>left_eye_outer_corner_y</th>\n",
       "      <th>right_eye_inner_corner_x</th>\n",
       "      <th>right_eye_inner_corner_y</th>\n",
       "      <th>...</th>\n",
       "      <th>nose_tip_y</th>\n",
       "      <th>mouth_left_corner_x</th>\n",
       "      <th>mouth_left_corner_y</th>\n",
       "      <th>mouth_right_corner_x</th>\n",
       "      <th>mouth_right_corner_y</th>\n",
       "      <th>mouth_center_top_lip_x</th>\n",
       "      <th>mouth_center_top_lip_y</th>\n",
       "      <th>mouth_center_bottom_lip_x</th>\n",
       "      <th>mouth_center_bottom_lip_y</th>\n",
       "      <th>Image</th>\n",
       "    </tr>\n",
       "  </thead>\n",
       "  <tbody>\n",
       "    <tr>\n",
       "      <th>0</th>\n",
       "      <td>66.033564</td>\n",
       "      <td>39.002274</td>\n",
       "      <td>30.227008</td>\n",
       "      <td>36.421678</td>\n",
       "      <td>59.582075</td>\n",
       "      <td>39.647423</td>\n",
       "      <td>73.130346</td>\n",
       "      <td>39.969997</td>\n",
       "      <td>36.356571</td>\n",
       "      <td>37.389402</td>\n",
       "      <td>...</td>\n",
       "      <td>57.066803</td>\n",
       "      <td>61.195308</td>\n",
       "      <td>79.970165</td>\n",
       "      <td>28.614496</td>\n",
       "      <td>77.388992</td>\n",
       "      <td>43.312602</td>\n",
       "      <td>72.935459</td>\n",
       "      <td>43.130707</td>\n",
       "      <td>84.485774</td>\n",
       "      <td>238 236 237 238 240 240 239 241 241 243 240 23...</td>\n",
       "    </tr>\n",
       "  </tbody>\n",
       "</table>\n",
       "<p>1 rows × 31 columns</p>\n",
       "</div>"
      ],
      "text/plain": [
       "   left_eye_center_x  left_eye_center_y  right_eye_center_x  \\\n",
       "0          66.033564          39.002274           30.227008   \n",
       "\n",
       "   right_eye_center_y  left_eye_inner_corner_x  left_eye_inner_corner_y  \\\n",
       "0           36.421678                59.582075                39.647423   \n",
       "\n",
       "   left_eye_outer_corner_x  left_eye_outer_corner_y  right_eye_inner_corner_x  \\\n",
       "0                73.130346                39.969997                 36.356571   \n",
       "\n",
       "   right_eye_inner_corner_y  \\\n",
       "0                 37.389402   \n",
       "\n",
       "                         ...                          nose_tip_y  \\\n",
       "0                        ...                           57.066803   \n",
       "\n",
       "   mouth_left_corner_x  mouth_left_corner_y  mouth_right_corner_x  \\\n",
       "0            61.195308            79.970165             28.614496   \n",
       "\n",
       "   mouth_right_corner_y  mouth_center_top_lip_x  mouth_center_top_lip_y  \\\n",
       "0             77.388992               43.312602               72.935459   \n",
       "\n",
       "   mouth_center_bottom_lip_x  mouth_center_bottom_lip_y  \\\n",
       "0                  43.130707                  84.485774   \n",
       "\n",
       "                                               Image  \n",
       "0  238 236 237 238 240 240 239 241 241 243 240 23...  \n",
       "\n",
       "[1 rows x 31 columns]"
      ]
     },
     "execution_count": 2,
     "metadata": {},
     "output_type": "execute_result"
    }
   ],
   "source": [
    "\"\"\"データセットの読込\n",
    "\"\"\"\n",
    "\n",
    "import pandas as pd\n",
    "\n",
    "train_df = pd.read_csv(\"./datasets/training.csv\").dropna()\n",
    "train_df.head(1)"
   ]
  },
  {
   "cell_type": "code",
   "execution_count": 3,
   "metadata": {
    "collapsed": false
   },
   "outputs": [
    {
     "data": {
      "text/plain": [
       "(2140,)"
      ]
     },
     "execution_count": 3,
     "metadata": {},
     "output_type": "execute_result"
    }
   ],
   "source": [
    "import numpy as np\n",
    "# from itertools import chain\n",
    "# flatten = lambda l: list(chain.from_iterable(l))\n",
    "\n",
    "# images = train_df.Image.apply(\n",
    "#   lambda image: np.array([float(v) for v in image.split(' ')])\n",
    "# ).apply(\n",
    "# #   lambda image: flatten(image.reshape(1, 96, 96) / 255.0)\n",
    "#   lambda image: image.reshape(1, 96, 96) / 255.0\n",
    "# ).values\n",
    "\n",
    "images = train_df.Image.apply(\n",
    "#   lambda image: map(float, image.split(' ')).reshape(1, 96, 96) / 255.0\n",
    "  lambda image: image.split(' ')\n",
    ")\n",
    "images.shape #.values.shape"
   ]
  },
  {
   "cell_type": "code",
   "execution_count": 4,
   "metadata": {
    "collapsed": false
   },
   "outputs": [
    {
     "data": {
      "text/plain": [
       "array([[ 0.68784962,  0.67013475,  0.67767763, ...,  0.71282152,\n",
       "         0.66825187,  0.69462245],\n",
       "       [ 0.40627368,  0.36427163,  0.36364211, ...,  0.40262474,\n",
       "         0.31970408,  0.35920238],\n",
       "       [ 0.31486466,  0.31197163,  0.32191447, ...,  0.30099851,\n",
       "         0.28125935,  0.32067177],\n",
       "       [ 0.37939248,  0.34842411,  0.36364211, ...,  0.39184403,\n",
       "         0.42570918,  0.40186395]])"
      ]
     },
     "execution_count": 4,
     "metadata": {},
     "output_type": "execute_result"
    }
   ],
   "source": [
    "targets = np.array([\n",
    "    train_df.left_eye_center_x,\n",
    "    train_df.left_eye_center_y,\n",
    "    train_df.right_eye_center_x,\n",
    "    train_df.right_eye_center_y,\n",
    "  ]) / 96.0\n",
    "targets = np.array(targets)\n",
    "\n",
    "targets\n",
    "# データ拡張は一旦やらない"
   ]
  },
  {
   "cell_type": "code",
   "execution_count": 6,
   "metadata": {
    "collapsed": false
   },
   "outputs": [
    {
     "name": "stdout",
     "output_type": "stream",
     "text": [
      "Collecting keras\n",
      "  Downloading Keras-2.0.3.tar.gz (196kB)\n",
      "\u001b[K    100% |################################| 204kB 1.7MB/s \n",
      "\u001b[?25hCollecting theano (from keras)\n",
      "  Downloading Theano-0.9.0.tar.gz (3.1MB)\n",
      "\u001b[K    100% |################################| 3.1MB 243kB/s \n",
      "\u001b[?25hRequirement already satisfied: pyyaml in /usr/local/lib/python2.7/dist-packages (from keras)\n",
      "Requirement already satisfied: six in /usr/local/lib/python2.7/dist-packages (from keras)\n",
      "Requirement already satisfied: numpy>=1.9.1 in /usr/local/lib/python2.7/dist-packages (from theano->keras)\n",
      "Requirement already satisfied: scipy>=0.14 in /usr/local/lib/python2.7/dist-packages (from theano->keras)\n",
      "Building wheels for collected packages: keras, theano\n",
      "  Running setup.py bdist_wheel for keras ... \u001b[?25l-\b \b\\\b \bdone\n",
      "\u001b[?25h  Stored in directory: /root/.cache/pip/wheels/93/72/65/4924fd6b1859343291c50774e2df36919ee61c4511dc6a9890\n",
      "  Running setup.py bdist_wheel for theano ... \u001b[?25l-\b \b\\\b \b|\b \b/\b \b-\b \b\\\b \b|\b \bdone\n",
      "\u001b[?25h  Stored in directory: /root/.cache/pip/wheels/d5/5b/93/433299b86e3e9b25f0f600e4e4ebf18e38eb7534ea518eba13\n",
      "Successfully built keras theano\n",
      "Installing collected packages: theano, keras\n",
      "Successfully installed keras-2.0.3 theano-0.9.0\n"
     ]
    },
    {
     "name": "stderr",
     "output_type": "stream",
     "text": [
      "Using TensorFlow backend.\n"
     ]
    }
   ],
   "source": [
    "\"\"\"モデル定義\n",
    "\"\"\"\n",
    "\n",
    "!pip install keras\n",
    "\n",
    "from keras.models import Sequential\n",
    "from keras.layers.core import Dense, Dropout, Activation, Flatten\n",
    "from keras.layers.convolutional import MaxPooling2D, Conv2D\n",
    "from keras.regularizers import l2"
   ]
  },
  {
   "cell_type": "code",
   "execution_count": 7,
   "metadata": {
    "collapsed": false
   },
   "outputs": [
    {
     "name": "stderr",
     "output_type": "stream",
     "text": [
      "/usr/local/lib/python2.7/dist-packages/ipykernel/__main__.py:27: UserWarning: Update your `MaxPooling2D` call to the Keras 2 API: `MaxPooling2D(data_format=\"channels_first\", pool_size=(2, 2))`\n",
      "/usr/local/lib/python2.7/dist-packages/ipykernel/__main__.py:30: UserWarning: Update your `Dense` call to the Keras 2 API: `Dense(1024, kernel_regularizer=<keras.reg...)`\n",
      "/usr/local/lib/python2.7/dist-packages/ipykernel/__main__.py:32: UserWarning: Update your `Dense` call to the Keras 2 API: `Dense(4, kernel_regularizer=<keras.reg...)`\n",
      "/usr/local/lib/python2.7/dist-packages/keras/models.py:834: UserWarning: The `nb_epoch` argument in `fit` has been renamed `epochs`.\n",
      "  warnings.warn('The `nb_epoch` argument in `fit` '\n"
     ]
    },
    {
     "ename": "ValueError",
     "evalue": "Error when checking model input: expected conv2d_1_input to have 4 dimensions, but got array with shape (2140, 1)",
     "output_type": "error",
     "traceback": [
      "\u001b[0;31m\u001b[0m",
      "\u001b[0;31mValueError\u001b[0mTraceback (most recent call last)",
      "\u001b[0;32m<ipython-input-7-d9bda02fe151>\u001b[0m in \u001b[0;36m<module>\u001b[0;34m()\u001b[0m\n\u001b[1;32m     40\u001b[0m           \u001b[0mnb_epoch\u001b[0m\u001b[0;34m=\u001b[0m\u001b[0;36m5\u001b[0m\u001b[0;34m,\u001b[0m\u001b[0;34m\u001b[0m\u001b[0m\n\u001b[1;32m     41\u001b[0m           \u001b[0mvalidation_split\u001b[0m\u001b[0;34m=\u001b[0m\u001b[0;36m0.1\u001b[0m\u001b[0;34m,\u001b[0m\u001b[0;34m\u001b[0m\u001b[0m\n\u001b[0;32m---> 42\u001b[0;31m           shuffle=True)\n\u001b[0m\u001b[1;32m     43\u001b[0m \u001b[0mmodel\u001b[0m\u001b[0;34m.\u001b[0m\u001b[0msave_weights\u001b[0m\u001b[0;34m(\u001b[0m\u001b[0;34m\"regression_model_weights.hdf5\"\u001b[0m\u001b[0;34m)\u001b[0m\u001b[0;34m\u001b[0m\u001b[0m\n",
      "\u001b[0;32m/usr/local/lib/python2.7/dist-packages/keras/models.pyc\u001b[0m in \u001b[0;36mfit\u001b[0;34m(self, x, y, batch_size, epochs, verbose, callbacks, validation_split, validation_data, shuffle, class_weight, sample_weight, initial_epoch, **kwargs)\u001b[0m\n\u001b[1;32m    851\u001b[0m                               \u001b[0mclass_weight\u001b[0m\u001b[0;34m=\u001b[0m\u001b[0mclass_weight\u001b[0m\u001b[0;34m,\u001b[0m\u001b[0;34m\u001b[0m\u001b[0m\n\u001b[1;32m    852\u001b[0m                               \u001b[0msample_weight\u001b[0m\u001b[0;34m=\u001b[0m\u001b[0msample_weight\u001b[0m\u001b[0;34m,\u001b[0m\u001b[0;34m\u001b[0m\u001b[0m\n\u001b[0;32m--> 853\u001b[0;31m                               initial_epoch=initial_epoch)\n\u001b[0m\u001b[1;32m    854\u001b[0m \u001b[0;34m\u001b[0m\u001b[0m\n\u001b[1;32m    855\u001b[0m     def evaluate(self, x, y, batch_size=32, verbose=1,\n",
      "\u001b[0;32m/usr/local/lib/python2.7/dist-packages/keras/engine/training.pyc\u001b[0m in \u001b[0;36mfit\u001b[0;34m(self, x, y, batch_size, epochs, verbose, callbacks, validation_split, validation_data, shuffle, class_weight, sample_weight, initial_epoch, **kwargs)\u001b[0m\n\u001b[1;32m   1404\u001b[0m             \u001b[0mclass_weight\u001b[0m\u001b[0;34m=\u001b[0m\u001b[0mclass_weight\u001b[0m\u001b[0;34m,\u001b[0m\u001b[0;34m\u001b[0m\u001b[0m\n\u001b[1;32m   1405\u001b[0m             \u001b[0mcheck_batch_axis\u001b[0m\u001b[0;34m=\u001b[0m\u001b[0mFalse\u001b[0m\u001b[0;34m,\u001b[0m\u001b[0;34m\u001b[0m\u001b[0m\n\u001b[0;32m-> 1406\u001b[0;31m             batch_size=batch_size)\n\u001b[0m\u001b[1;32m   1407\u001b[0m         \u001b[0;31m# prepare validation data\u001b[0m\u001b[0;34m\u001b[0m\u001b[0;34m\u001b[0m\u001b[0m\n\u001b[1;32m   1408\u001b[0m         \u001b[0;32mif\u001b[0m \u001b[0mvalidation_data\u001b[0m\u001b[0;34m:\u001b[0m\u001b[0;34m\u001b[0m\u001b[0m\n",
      "\u001b[0;32m/usr/local/lib/python2.7/dist-packages/keras/engine/training.pyc\u001b[0m in \u001b[0;36m_standardize_user_data\u001b[0;34m(self, x, y, sample_weight, class_weight, check_batch_axis, batch_size)\u001b[0m\n\u001b[1;32m   1294\u001b[0m                                     \u001b[0mself\u001b[0m\u001b[0;34m.\u001b[0m\u001b[0m_feed_input_shapes\u001b[0m\u001b[0;34m,\u001b[0m\u001b[0;34m\u001b[0m\u001b[0m\n\u001b[1;32m   1295\u001b[0m                                     \u001b[0mcheck_batch_axis\u001b[0m\u001b[0;34m=\u001b[0m\u001b[0mFalse\u001b[0m\u001b[0;34m,\u001b[0m\u001b[0;34m\u001b[0m\u001b[0m\n\u001b[0;32m-> 1296\u001b[0;31m                                     exception_prefix='model input')\n\u001b[0m\u001b[1;32m   1297\u001b[0m         y = _standardize_input_data(y, self._feed_output_names,\n\u001b[1;32m   1298\u001b[0m                                     \u001b[0moutput_shapes\u001b[0m\u001b[0;34m,\u001b[0m\u001b[0;34m\u001b[0m\u001b[0m\n",
      "\u001b[0;32m/usr/local/lib/python2.7/dist-packages/keras/engine/training.pyc\u001b[0m in \u001b[0;36m_standardize_input_data\u001b[0;34m(data, names, shapes, check_batch_axis, exception_prefix)\u001b[0m\n\u001b[1;32m    119\u001b[0m                                  \u001b[0;34m' to have '\u001b[0m \u001b[0;34m+\u001b[0m \u001b[0mstr\u001b[0m\u001b[0;34m(\u001b[0m\u001b[0mlen\u001b[0m\u001b[0;34m(\u001b[0m\u001b[0mshapes\u001b[0m\u001b[0;34m[\u001b[0m\u001b[0mi\u001b[0m\u001b[0;34m]\u001b[0m\u001b[0;34m)\u001b[0m\u001b[0;34m)\u001b[0m \u001b[0;34m+\u001b[0m\u001b[0;34m\u001b[0m\u001b[0m\n\u001b[1;32m    120\u001b[0m                                  \u001b[0;34m' dimensions, but got array with shape '\u001b[0m \u001b[0;34m+\u001b[0m\u001b[0;34m\u001b[0m\u001b[0m\n\u001b[0;32m--> 121\u001b[0;31m                                  str(array.shape))\n\u001b[0m\u001b[1;32m    122\u001b[0m             \u001b[0;32mfor\u001b[0m \u001b[0mj\u001b[0m\u001b[0;34m,\u001b[0m \u001b[0;34m(\u001b[0m\u001b[0mdim\u001b[0m\u001b[0;34m,\u001b[0m \u001b[0mref_dim\u001b[0m\u001b[0;34m)\u001b[0m \u001b[0;32min\u001b[0m \u001b[0menumerate\u001b[0m\u001b[0;34m(\u001b[0m\u001b[0mzip\u001b[0m\u001b[0;34m(\u001b[0m\u001b[0marray\u001b[0m\u001b[0;34m.\u001b[0m\u001b[0mshape\u001b[0m\u001b[0;34m,\u001b[0m \u001b[0mshapes\u001b[0m\u001b[0;34m[\u001b[0m\u001b[0mi\u001b[0m\u001b[0;34m]\u001b[0m\u001b[0;34m)\u001b[0m\u001b[0;34m)\u001b[0m\u001b[0;34m:\u001b[0m\u001b[0;34m\u001b[0m\u001b[0m\n\u001b[1;32m    123\u001b[0m                 \u001b[0;32mif\u001b[0m \u001b[0;32mnot\u001b[0m \u001b[0mj\u001b[0m \u001b[0;32mand\u001b[0m \u001b[0;32mnot\u001b[0m \u001b[0mcheck_batch_axis\u001b[0m\u001b[0;34m:\u001b[0m\u001b[0;34m\u001b[0m\u001b[0m\n",
      "\u001b[0;31mValueError\u001b[0m: Error when checking model input: expected conv2d_1_input to have 4 dimensions, but got array with shape (2140, 1)"
     ]
    }
   ],
   "source": [
    "# model = Sequential()\n",
    "\n",
    "# model.add(Convolution2D(8, 4, 4, border_mode='same', subsample=(2, 2), input_shape=(1, 96, 96)))\n",
    "# model.add(Activation('relu'))\n",
    "# model.add(Convolution2D(16, 4, 4, border_mode='same', subsample=(2, 2), input_shape=(8, 48, 48)))\n",
    "# model.add(Activation('relu'))\n",
    "# model.add(Convolution2D(32, 4, 4, border_mode='same', subsample=(2, 2), input_shape=(16, 24, 24)))\n",
    "# model.add(Activation('relu'))\n",
    "\n",
    "# model.add(MaxPooling2D(pool_size=(2, 2)))\n",
    "# model.add(Dropout(0.5))\n",
    "# model.add(Flatten())\n",
    "# model.add(Dense(1024, W_regularizer=l2(0.001)))\n",
    "# model.add(Activation('relu'))\n",
    "# model.add(Dense(4, W_regularizer=l2(0.001)))\n",
    "# model.add(Activation('linear'))\n",
    "\n",
    "\n",
    "model = Sequential()\n",
    "\n",
    "model.add(Conv2D(8, (4, 4), padding='same', strides=(2, 2), input_shape=(1, 96, 96)))\n",
    "model.add(Activation('relu'))\n",
    "model.add(Conv2D(16, (4, 4), padding='same', strides=(2, 2), input_shape=(8, 48, 48)))\n",
    "model.add(Activation('relu'))\n",
    "model.add(Conv2D(32, (4, 4), padding='same', strides=(2, 2), input_shape=(16, 24, 24)))\n",
    "model.add(Activation('relu'))\n",
    "model.add(MaxPooling2D(pool_size=(2, 2), dim_ordering='th'))\n",
    "model.add(Dropout(0.5))\n",
    "model.add(Flatten())\n",
    "model.add(Dense(1024, W_regularizer=l2(0.001)))\n",
    "model.add(Activation('relu'))\n",
    "model.add(Dense(4, W_regularizer=l2(0.001)))\n",
    "model.add(Activation('linear'))\n",
    "\n",
    "model.compile(loss='mean_squared_error', optimizer='adam')\n",
    "\n",
    "model.fit(images,\n",
    "          targets, \n",
    "          batch_size=64, \n",
    "          nb_epoch=5, \n",
    "          validation_split=0.1,\n",
    "          shuffle=True)\n",
    "model.save_weights(\"regression_model_weights.hdf5\")"
   ]
  },
  {
   "cell_type": "code",
   "execution_count": 23,
   "metadata": {
    "collapsed": false
   },
   "outputs": [],
   "source": [
    "train_df = pd.read_csv(\"./datasets/training.csv\").dropna()\n",
    "# 把握しやすさを考慮する\n",
    "images = list()\n",
    "targets = list()\n",
    "for i in train_df.index:\n",
    "    image_rawdata = train_df.Image[i]\n",
    "    image_vector = np.array(map(float, image_rawdata.split(' ')), dtype=np.float32)\n",
    "    image = image_vector.reshape(1, 96, 96) / 255.0\n",
    "    images.append(image)\n",
    "\n",
    "    left_eye_center_x = train_df.left_eye_center_x[i]\n",
    "    left_eye_center_y = train_df.left_eye_center_y[i]\n",
    "    right_eye_center_x = train_df.right_eye_center_x[i]\n",
    "    right_eye_center_y = train_df.right_eye_center_y[i]\n",
    "\n",
    "    target = [left_eye_center_x, left_eye_center_y,\n",
    "              right_eye_center_x, right_eye_center_y]\n",
    "\n",
    "    targets.append(np.array(target) / 96.0)\n",
    "\n",
    "#     # データ拡張\n",
    "#     for j in range(10):\n",
    "#         new_image = np.zeros(image.shape) + 0.5\n",
    "#         if j == 0:\n",
    "#             # 左にシフト\n",
    "#             new_image[0, :, :-10] = image[0, :, 10:]\n",
    "#             new_target = [left_eye_center_x - 10.0, left_eye_center_y,\n",
    "#                           right_eye_center_x - 10.0, right_eye_center_y]\n",
    "#         elif j == 1:\n",
    "#             # 左にシフト\n",
    "#             new_image[0, :, :-20] = image[0, :, 20:]\n",
    "#             new_target = [left_eye_center_x - 20.0, left_eye_center_y,\n",
    "#                           right_eye_center_x - 20.0, right_eye_center_y]\n",
    "#         elif j == 2:\n",
    "#             # 左にシフト\n",
    "#             new_image[0, :, :-30] = image[0, :, 30:]\n",
    "#             new_target = [left_eye_center_x - 30.0, left_eye_center_y,\n",
    "#                           right_eye_center_x - 30.0, right_eye_center_y]\n",
    "#         elif j == 3:\n",
    "#             # 右にシフト\n",
    "#             new_image[0, :, 10:] = image[0, :, :-10]\n",
    "#             new_target = [left_eye_center_x + 10.0, left_eye_center_y,\n",
    "#                           right_eye_center_x + 10.0, right_eye_center_y]\n",
    "#         elif j == 4:\n",
    "#             # 右にシフト\n",
    "#             new_image[0, :, 20:] = image[0, :, :-20]\n",
    "#             new_target = [left_eye_center_x + 20.0, left_eye_center_y,\n",
    "#                           right_eye_center_x + 20.0, right_eye_center_y]\n",
    "#         elif j == 5:\n",
    "#             # 右にシフト\n",
    "#             new_image[0, :, 30:] = image[0, :, :-30]\n",
    "#             new_target = [left_eye_center_x + 30.0, left_eye_center_y,\n",
    "#                           right_eye_center_x + 30.0, right_eye_center_y]\n",
    "#         elif j == 6:\n",
    "#             # やや上にシフト\n",
    "#             new_image[0, :-10, :] = image[0, 10:, :]\n",
    "#             new_target = [left_eye_center_x, left_eye_center_y - 10.0,\n",
    "#                           right_eye_center_x, right_eye_center_y - 10.0]\n",
    "#         elif j == 7:\n",
    "#             # やや下にシフト\n",
    "#             new_image[0, 10:, :] = image[0, :-10, :]\n",
    "#             new_target = [left_eye_center_x, left_eye_center_y + 10.0,\n",
    "#                           right_eye_center_x, right_eye_center_y + 10.0]\n",
    "#         elif j == 8:\n",
    "#             # かなり下にシフト\n",
    "#             new_image[0, 20:, :] = image[0, :-20, :]\n",
    "#             new_target = [left_eye_center_x, left_eye_center_y + 20.0,\n",
    "#                           right_eye_center_x, right_eye_center_y + 20.0]\n",
    "#         else:\n",
    "#             # かなり下にシフト\n",
    "#             new_image[0, 30:, :] = image[0, :-30, :]\n",
    "#             new_target = [left_eye_center_x, left_eye_center_y + 30.0,\n",
    "#                           right_eye_center_x, right_eye_center_y + 30.0]\n",
    "\n",
    "#         images.append(new_image)\n",
    "#         targets.append(np.array(new_target) / 96.0)\n",
    "\n",
    "tmp_images, tmp_targets = np.array(images), np.array(targets)"
   ]
  },
  {
   "cell_type": "code",
   "execution_count": 31,
   "metadata": {
    "collapsed": false
   },
   "outputs": [
    {
     "data": {
      "text/plain": [
       "(2140,)"
      ]
     },
     "execution_count": 31,
     "metadata": {},
     "output_type": "execute_result"
    }
   ],
   "source": [
    "images.shape"
   ]
  },
  {
   "cell_type": "code",
   "execution_count": 32,
   "metadata": {
    "collapsed": false
   },
   "outputs": [
    {
     "data": {
      "text/plain": [
       "(2140, 1, 96, 96)"
      ]
     },
     "execution_count": 32,
     "metadata": {},
     "output_type": "execute_result"
    }
   ],
   "source": [
    "tmp_images.shape"
   ]
  },
  {
   "cell_type": "code",
   "execution_count": 39,
   "metadata": {
    "collapsed": false
   },
   "outputs": [
    {
     "data": {
      "text/plain": [
       "array([[[[ 0.93333334,  0.9254902 ,  0.92941177, ...,  0.98039216,\n",
       "           0.98039216,  0.98039216],\n",
       "         [ 0.92156863,  0.93333334,  0.9254902 , ...,  0.97647059,\n",
       "           0.98039216,  0.98431373],\n",
       "         [ 0.92941177,  0.9254902 ,  0.92941177, ...,  0.98431373,\n",
       "           0.98431373,  0.98039216],\n",
       "         ..., \n",
       "         [ 0.72941178,  0.71764708,  0.70980394, ...,  0.20392157,\n",
       "           0.22352941,  0.23529412],\n",
       "         [ 0.74117649,  0.73725492,  0.81176472, ...,  0.23921569,\n",
       "           0.27058825,  0.30588236],\n",
       "         [ 0.74901962,  0.72156864,  0.72156864, ...,  0.27450982,\n",
       "           0.29411766,  0.35294119]]],\n",
       "\n",
       "\n",
       "       [[[ 0.85882354,  0.84313726,  0.80000001, ...,  0.36078432,\n",
       "           0.34509805,  0.32941177],\n",
       "         [ 0.87058824,  0.85882354,  0.86274511, ...,  0.36078432,\n",
       "           0.34509805,  0.33725491],\n",
       "         [ 0.90588236,  0.87843138,  0.83137256, ...,  0.3019608 ,\n",
       "           0.3137255 ,  0.32941177],\n",
       "         ..., \n",
       "         [ 0.00392157,  0.00392157,  0.00392157, ...,  0.00392157,\n",
       "           0.00392157,  0.00392157],\n",
       "         [ 0.00392157,  0.00392157,  0.00392157, ...,  0.00392157,\n",
       "           0.00392157,  0.00392157],\n",
       "         [ 0.00392157,  0.00392157,  0.00392157, ...,  0.00392157,\n",
       "           0.00392157,  0.00392157]]],\n",
       "\n",
       "\n",
       "       [[[ 0.56470591,  0.55686277,  0.62352943, ...,  0.81568629,\n",
       "           0.81176472,  0.81176472],\n",
       "         [ 0.56078434,  0.55686277,  0.63137257, ...,  0.81568629,\n",
       "           0.81568629,  0.81176472],\n",
       "         [ 0.56078434,  0.54901963,  0.627451  , ...,  0.81960785,\n",
       "           0.81960785,  0.81176472],\n",
       "         ..., \n",
       "         [ 0.25882354,  0.27450982,  0.27058825, ...,  0.31764707,\n",
       "           0.52549022,  0.76078433],\n",
       "         [ 0.25490198,  0.27058825,  0.27843139, ...,  0.29411766,\n",
       "           0.32549021,  0.42745098],\n",
       "         [ 0.25490198,  0.26666668,  0.27450982, ...,  0.30588236,\n",
       "           0.30588236,  0.3019608 ]]],\n",
       "\n",
       "\n",
       "       ..., \n",
       "       [[[ 0.12156863,  0.15686275,  0.18431373, ...,  0.7764706 ,\n",
       "           0.7764706 ,  0.77254903],\n",
       "         [ 0.13725491,  0.18431373,  0.18039216, ...,  0.77254903,\n",
       "           0.78039217,  0.77254903],\n",
       "         [ 0.16862746,  0.20392157,  0.18039216, ...,  0.7647059 ,\n",
       "           0.7764706 ,  0.7764706 ],\n",
       "         ..., \n",
       "         [ 0.50588238,  0.52549022,  0.52549022, ...,  0.14509805,\n",
       "           0.15294118,  0.21568628],\n",
       "         [ 0.50980395,  0.53333336,  0.53725493, ...,  0.14901961,\n",
       "           0.17647059,  0.25098041],\n",
       "         [ 0.50196081,  0.53333336,  0.52941179, ...,  0.15294118,\n",
       "           0.2       ,  0.29411766]]],\n",
       "\n",
       "\n",
       "       [[[ 0.02745098,  0.00392157,  0.01960784, ...,  0.03529412,\n",
       "           0.07843138,  0.14901961],\n",
       "         [ 0.        ,  0.01176471,  0.03137255, ...,  0.03529412,\n",
       "           0.0627451 ,  0.14117648],\n",
       "         [ 0.        ,  0.03529412,  0.03137255, ...,  0.02352941,\n",
       "           0.03921569,  0.09803922],\n",
       "         ..., \n",
       "         [ 0.32156864,  0.32549021,  0.32549021, ...,  0.7019608 ,\n",
       "           0.64313728,  0.14117648],\n",
       "         [ 0.32156864,  0.32549021,  0.32549021, ...,  0.69411767,\n",
       "           0.67450982,  0.17647059],\n",
       "         [ 0.32549021,  0.32941177,  0.32941177, ...,  0.7019608 ,\n",
       "           0.69411767,  0.22352941]]],\n",
       "\n",
       "\n",
       "       [[[ 0.26666668,  0.07450981,  0.07450981, ...,  0.01176471,\n",
       "           0.03137255,  0.01176471],\n",
       "         [ 0.27450982,  0.10588235,  0.06666667, ...,  0.01960784,\n",
       "           0.02745098,  0.01568628],\n",
       "         [ 0.35686275,  0.10196079,  0.0627451 , ...,  0.01960784,\n",
       "           0.03137255,  0.01960784],\n",
       "         ..., \n",
       "         [ 0.45490196,  0.4627451 ,  0.48235294, ...,  0.4627451 ,\n",
       "           0.45490196,  0.45882353],\n",
       "         [ 0.45490196,  0.46666667,  0.49019608, ...,  0.47843137,\n",
       "           0.47450981,  0.47058824],\n",
       "         [ 0.47058824,  0.48627451,  0.50588238, ...,  0.49019608,\n",
       "           0.48627451,  0.46666667]]]], dtype=float32)"
      ]
     },
     "execution_count": 39,
     "metadata": {},
     "output_type": "execute_result"
    }
   ],
   "source": [
    "tmp_images"
   ]
  },
  {
   "cell_type": "code",
   "execution_count": null,
   "metadata": {
    "collapsed": true
   },
   "outputs": [],
   "source": []
  }
 ],
 "metadata": {
  "kernelspec": {
   "display_name": "Python 2",
   "language": "python",
   "name": "python2"
  },
  "language_info": {
   "codemirror_mode": {
    "name": "ipython",
    "version": 2
   },
   "file_extension": ".py",
   "mimetype": "text/x-python",
   "name": "python",
   "nbconvert_exporter": "python",
   "pygments_lexer": "ipython2",
   "version": "2.7.9"
  }
 },
 "nbformat": 4,
 "nbformat_minor": 2
}
